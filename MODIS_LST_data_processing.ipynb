{
  "nbformat": 4,
  "nbformat_minor": 0,
  "metadata": {
    "colab": {
      "provenance": [],
      "include_colab_link": true
    },
    "kernelspec": {
      "name": "python3",
      "display_name": "Python 3"
    },
    "language_info": {
      "name": "python"
    }
  },
  "cells": [
    {
      "cell_type": "markdown",
      "metadata": {
        "id": "view-in-github",
        "colab_type": "text"
      },
      "source": [
        "<a href=\"https://colab.research.google.com/github/1kaiser/Jodhpur_ecostress_LST/blob/main/MODIS_LST_data_processing.ipynb\" target=\"_parent\"><img src=\"https://colab.research.google.com/assets/colab-badge.svg\" alt=\"Open In Colab\"/></a>"
      ]
    },
    {
      "cell_type": "markdown",
      "source": [
        "# prerequisite"
      ],
      "metadata": {
        "id": "TK9mtyiia0oR"
      }
    },
    {
      "cell_type": "code",
      "source": [
        "!wget https://github.com/1kaiser/Jodhpur_ecostress_LST/releases/download/1/folder.zip\n",
        "!unzip -o /content/folder.zip -d /content/files"
      ],
      "metadata": {
        "id": "T68sdrnejymU"
      },
      "execution_count": null,
      "outputs": []
    },
    {
      "cell_type": "code",
      "source": [
        "!wget https://github.com/1kaiser/ICESAT2/releases/download/1/DEM.tif\n",
        "!wget https://github.com/1kaiser/ICESAT2/releases/download/1/SLOPE.tif\n",
        "!wget https://github.com/1kaiser/ICESAT2/releases/download/1/ASPECT.tif"
      ],
      "metadata": {
        "id": "WgHET4ZnleaJ"
      },
      "execution_count": null,
      "outputs": []
    },
    {
      "cell_type": "code",
      "source": [
        "!pip install rasterio"
      ],
      "metadata": {
        "id": "ol1-LZLblZxp"
      },
      "execution_count": null,
      "outputs": []
    },
    {
      "cell_type": "markdown",
      "source": [
        "# part 2"
      ],
      "metadata": {
        "id": "Ho_tYJvkax9Y"
      }
    },
    {
      "cell_type": "code",
      "source": [
        "image_dir = r'/content/files/content/testfiles'\n",
        "\n",
        "#############################################################################\n",
        "prefix = \"MYD11A1.061_\"\n",
        "bandend = [\"LST_Day\", \"LST_Night\", \"b03\", \"b04\", \"b05\", \"b06\", \"b07\", \"day_of_year\", \"qc_500m\", \"raz\", \"state_500m\", \"szen\", \"vzen\"]\n",
        "DayOY = \"_doy\\[0-9]+_aid0001\"\n",
        "fileExt = r'.tif'\n",
        "expression_b1 = prefix+bandend[0]\n",
        "expression_b2 = prefix+bandend[1]\n",
        "\n",
        "temp_dir = r'/content/'\n",
        "import os\n",
        "\n",
        "imgs_list_b1 = [f for f in os.listdir(image_dir) if f.__contains__(expression_b1)]\n",
        "\n",
        "imgs_list_b1.sort(reverse=True)\n",
        "\n",
        "                    #<<<< to start file streaming from the last date 2022 >> 2021 >> 2020 ....\n",
        "\n",
        "imgs_path_b1 = [os.path.join(image_dir, i) for i in imgs_list_b1 if i != 'outputs']\n",
        "print(len(imgs_path_b1))"
      ],
      "metadata": {
        "colab": {
          "base_uri": "https://localhost:8080/"
        },
        "id": "91TZZ7QIkxyJ",
        "outputId": "2fd08cfa-e4d1-4259-8934-df1a1aeed937"
      },
      "execution_count": null,
      "outputs": [
        {
          "output_type": "stream",
          "name": "stdout",
          "text": [
            "586\n"
          ]
        }
      ]
    },
    {
      "cell_type": "code",
      "source": [
        "import rasterio\n",
        "import matplotlib.pyplot as plt\n",
        "import os\n",
        "\n",
        "def view_tiff_file(tif_path):\n",
        "    # Open the TIFF file\n",
        "    dataset = rasterio.open(tif_path)\n",
        "\n",
        "    # Read the raster data\n",
        "    raster_data = dataset.read(1, masked=True) * 0.02 - 273.15\n",
        "\n",
        "    # Get the spatial extent\n",
        "    dataset1 = rasterio.open(\"/content/files/content/testfiles/ECO2LSTE.001_SDS_LST_doy2018255023709_aid0001.tif\")\n",
        "    xmin, ymin, xmax, ymax = dataset1.bounds\n",
        "\n",
        "    # Extract day of year from the file name\n",
        "    year = os.path.splitext(os.path.basename(tif_path))[0].split('_')[-2][3:7]\n",
        "    doy = os.path.splitext(os.path.basename(tif_path))[0].split('_')[-2][7:10]\n",
        "\n",
        "    # Plot the raster using Matplotlib\n",
        "    plt.figure(figsize=(10, 10))\n",
        "    plt.imshow(raster_data, cmap='magma', extent=[xmin, xmax, ymin, ymax])\n",
        "    plt.colorbar(shrink=0.7)\n",
        "    plt.xlabel('Longitude')\n",
        "    plt.ylabel('Latitude')\n",
        "    plt.title(f'Day of Year: {year} - {doy}')\n",
        "\n",
        "    # Set the output path based on the doy\n",
        "    output_path = f\"/content/{year}{doy}.png\"\n",
        "\n",
        "    # Save the plot as PNG\n",
        "    plt.savefig(output_path, dpi=300)\n",
        "\n",
        "    # Close the dataset\n",
        "    dataset.close()\n",
        "    plt.close()\n",
        "\n",
        "# Example usage\n",
        "tif_path = \"/content/files/content/testfiles/ECO2LSTE.001_SDS_LST_doy2018255023709_aid0001.tif\"\n",
        "view_tiff_file(tif_path)\n"
      ],
      "metadata": {
        "id": "WMBmKF4RFqAI"
      },
      "execution_count": null,
      "outputs": []
    },
    {
      "cell_type": "code",
      "source": [
        "for file_name in imgs_list_b1:\n",
        "    file_name = '/content/files/content/testfiles/' + file_name\n",
        "    view_tiff_file(file_name)"
      ],
      "metadata": {
        "id": "cQNZU6Nh-kRd"
      },
      "execution_count": null,
      "outputs": []
    },
    {
      "cell_type": "code",
      "source": [
        "#####################################create video 1\n",
        "!ffmpeg \\\n",
        "-framerate 10 \\\n",
        "-pattern_type glob \\\n",
        "-i '/content/*.png' \\\n",
        "/content/files/input0.mp4"
      ],
      "metadata": {
        "id": "TbMhqtY-dl2u",
        "outputId": "fbc61a9c-2e72-41cd-ee3e-d9d4e1da0e66",
        "colab": {
          "base_uri": "https://localhost:8080/"
        }
      },
      "execution_count": null,
      "outputs": [
        {
          "output_type": "stream",
          "name": "stdout",
          "text": [
            "ffmpeg version 4.2.7-0ubuntu0.1 Copyright (c) 2000-2022 the FFmpeg developers\n",
            "  built with gcc 9 (Ubuntu 9.4.0-1ubuntu1~20.04.1)\n",
            "  configuration: --prefix=/usr --extra-version=0ubuntu0.1 --toolchain=hardened --libdir=/usr/lib/x86_64-linux-gnu --incdir=/usr/include/x86_64-linux-gnu --arch=amd64 --enable-gpl --disable-stripping --enable-avresample --disable-filter=resample --enable-avisynth --enable-gnutls --enable-ladspa --enable-libaom --enable-libass --enable-libbluray --enable-libbs2b --enable-libcaca --enable-libcdio --enable-libcodec2 --enable-libflite --enable-libfontconfig --enable-libfreetype --enable-libfribidi --enable-libgme --enable-libgsm --enable-libjack --enable-libmp3lame --enable-libmysofa --enable-libopenjpeg --enable-libopenmpt --enable-libopus --enable-libpulse --enable-librsvg --enable-librubberband --enable-libshine --enable-libsnappy --enable-libsoxr --enable-libspeex --enable-libssh --enable-libtheora --enable-libtwolame --enable-libvidstab --enable-libvorbis --enable-libvpx --enable-libwavpack --enable-libwebp --enable-libx265 --enable-libxml2 --enable-libxvid --enable-libzmq --enable-libzvbi --enable-lv2 --enable-omx --enable-openal --enable-opencl --enable-opengl --enable-sdl2 --enable-libdc1394 --enable-libdrm --enable-libiec61883 --enable-nvenc --enable-chromaprint --enable-frei0r --enable-libx264 --enable-shared\n",
            "  libavutil      56. 31.100 / 56. 31.100\n",
            "  libavcodec     58. 54.100 / 58. 54.100\n",
            "  libavformat    58. 29.100 / 58. 29.100\n",
            "  libavdevice    58.  8.100 / 58.  8.100\n",
            "  libavfilter     7. 57.100 /  7. 57.100\n",
            "  libavresample   4.  0.  0 /  4.  0.  0\n",
            "  libswscale      5.  5.100 /  5.  5.100\n",
            "  libswresample   3.  5.100 /  3.  5.100\n",
            "  libpostproc    55.  5.100 / 55.  5.100\n",
            "Input #0, image2, from '/content/*.png':\n",
            "  Duration: 00:00:24.50, start: 0.000000, bitrate: N/A\n",
            "    Stream #0:0: Video: png, rgba(pc), 3000x3000 [SAR 11811:11811 DAR 1:1], 10 tbr, 10 tbn, 10 tbc\n",
            "Stream mapping:\n",
            "  Stream #0:0 -> #0:0 (png (native) -> h264 (libx264))\n",
            "Press [q] to stop, [?] for help\n",
            "\u001b[1;36m[libx264 @ 0x556f84b0dec0] \u001b[0musing SAR=1/1\n",
            "\u001b[1;36m[libx264 @ 0x556f84b0dec0] \u001b[0musing cpu capabilities: MMX2 SSE2Fast SSSE3 SSE4.2 AVX FMA3 BMI2 AVX2\n",
            "\u001b[1;36m[libx264 @ 0x556f84b0dec0] \u001b[0mprofile High 4:4:4 Predictive, level 5.1, 4:4:4 8-bit\n",
            "\u001b[1;36m[libx264 @ 0x556f84b0dec0] \u001b[0m264 - core 155 r2917 0a84d98 - H.264/MPEG-4 AVC codec - Copyleft 2003-2018 - http://www.videolan.org/x264.html - options: cabac=1 ref=3 deblock=1:0:0 analyse=0x1:0x111 me=hex subme=7 psy=1 psy_rd=1.00:0.00 mixed_ref=1 me_range=16 chroma_me=1 trellis=1 8x8dct=0 cqm=0 deadzone=21,11 fast_pskip=1 chroma_qp_offset=4 threads=3 lookahead_threads=1 sliced_threads=0 nr=0 decimate=1 interlaced=0 bluray_compat=0 constrained_intra=0 bframes=3 b_pyramid=2 b_adapt=1 b_bias=0 direct=1 weightb=1 open_gop=0 weightp=2 keyint=250 keyint_min=10 scenecut=40 intra_refresh=0 rc_lookahead=40 rc=crf mbtree=1 crf=23.0 qcomp=0.60 qpmin=0 qpmax=69 qpstep=4 ip_ratio=1.40 aq=1:1.00\n",
            "Output #0, mp4, to '/content/files/input0.mp4':\n",
            "  Metadata:\n",
            "    encoder         : Lavf58.29.100\n",
            "    Stream #0:0: Video: h264 (libx264) (avc1 / 0x31637661), yuv444p, 3000x3000 [SAR 1:1 DAR 1:1], q=-1--1, 10 fps, 10240 tbn, 10 tbc\n",
            "    Metadata:\n",
            "      encoder         : Lavc58.54.100 libx264\n",
            "    Side data:\n",
            "      cpb: bitrate max/min/avg: 0/0/0 buffer size: 0 vbv_delay: -1\n"
          ]
        }
      ]
    }
  ]
}